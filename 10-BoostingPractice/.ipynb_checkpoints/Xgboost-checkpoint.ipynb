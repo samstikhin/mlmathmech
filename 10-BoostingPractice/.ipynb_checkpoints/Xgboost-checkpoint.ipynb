{
 "cells": [
  {
   "cell_type": "code",
   "execution_count": 1,
   "metadata": {},
   "outputs": [],
   "source": [
    "from scripts.setup_libs import *"
   ]
  },
  {
   "cell_type": "markdown",
   "metadata": {},
   "source": [
    "# XGBOOST"
   ]
  },
  {
   "cell_type": "markdown",
   "metadata": {},
   "source": [
    "Первый алгоритм, который находится вне sklearn, так как его создавала сторонняя компанда с большим числом навореченных фич.\n",
    "\n",
    "[Установка](https://xgboost.readthedocs.io/en/latest/build.html)"
   ]
  },
  {
   "cell_type": "markdown",
   "metadata": {},
   "source": [
    "# [Xgboost, Регуляризация](https://xgboost.readthedocs.io/en/latest/tutorials/model.html?highlight=boosting%20trees)"
   ]
  },
  {
   "cell_type": "markdown",
   "metadata": {},
   "source": [
    "Проблема многих алгоримтов построения деревьев в том, что в них не уделяется должного внимания **регуляризации**. \n",
    "В классическом градиентном бустинге применяется такие меры:\n",
    "- ограничение на структуру дерева: макисмальная глубина (max_depth), минимальное число объектов в листе (min_samples_leaf)\n",
    "- контролирование темпа обучения (learning_rate)\n",
    "- увеличение \"непохожести\" деревьев за счет рандомизации, как в случайном лесе\n",
    "\n",
    "[Xgboost](https://github.com/dmlc/xgboost) использует еще больше параметров для регуляризации базовых деревьев."
   ]
  },
  {
   "cell_type": "markdown",
   "metadata": {},
   "source": [
    "Бустинг строит композицию из $K$ базовых алгоритмов $b_k$:\n",
    "\n",
    "$$ \\hat{y}_i = \\hat{y}_i^{K} = \\sum_{k=1}^{K} b_k(x_i) = \\hat{y}_i^{\\left(K - 1\\right)} + b_K(x_i), $$\n",
    "\n",
    "С учетом регуляризации XGBoost минимизирет следующий функционал:\n",
    "\n",
    "$$ Obj = \\sum_{i=1}^N \\mathcal{L}(y_i, \\hat{y}_i ) + \\sum_{k=1}^{K} \\Omega(b_k),$$\n",
    "\n",
    "где\n",
    " - $N$ — размер обучающей выборки;\n",
    " - $x_i, y_i, \\hat{y}_i$ — i-ый объект, правильный ответ и предсказание модели для него;\n",
    " - $\\hat{y}_i^{t}$ — предсказание композиции из $t$ уже обученных базовых алгоритмов для i-го объекта;\n",
    " - $\\Omega$ — регуляризатор;\n",
    " - $\\mathcal{L}(y_i, \\hat{y}_i)$ — функция потерь.\n",
    "\n",
    "\n",
    "Функционал, оптимизируемый на $t$-ой итерации:\n",
    "\n",
    "$$ Obj^{(t)} = \\sum_{i=1}^N \\mathcal{L}\\left(y_i, \\hat{y}_i^{(t-1)} + b_t(x_i)\\right) + \\Omega(b_t).$$\n",
    "\n",
    "В случае бустинга над **решающими деревьями** регуляризатор имеет следующий вид:\n",
    "\n",
    "$$ \\Omega(b_t) = \\gamma T + \\frac{1}{2}\\lambda\\sum_{j=1}^{T}w_j^2 + \\alpha\\sum_{j=1}^{T}|w_j|,$$\n",
    "\n",
    "где \n",
    " - $T$ — **количество листьев в дереве**;\n",
    " - $w_j$ — **веса в листьях дерева** (вероятность попадания в лист по тренировачной выборке);\n",
    " - $\\lambda, \\alpha, \\gamma$ — **гиперпараметры**"
   ]
  },
  {
   "cell_type": "markdown",
   "metadata": {},
   "source": [
    "###  Более подробно"
   ]
  },
  {
   "cell_type": "markdown",
   "metadata": {},
   "source": [
    "\n",
    "Данный регуляризатор подобран эвристически и хорошо показывает себя на практике. \n",
    "\n",
    "Раскладывая в ряд Тейлора выражение $\\mathcal{L}\\left(y_i, \\hat{y}_i^{\\left(t-1\\right)} + b_t(x_i)\\right)$ до второго порядка, получаем:\n",
    "\n",
    "$$ Obj^{(t)} = \\sum_{i=1}^N\\left[\\mathcal{L}(y_i, \\hat{y}_i^{\\left(t-1\\right)}) + g_{i}b_{t}(x_i) + \\frac{1}{2}h_{i}b_{t}^2(x_i)\\right] + \\Omega(b_t),$$\n",
    "\n",
    "где $g_i = \\partial_{\\hat{y}_i^{(t-1)}} \\mathcal{L}(y_i, \\hat{y_i}^{(t-1)})$, $h_i = \\partial_{\\hat{y}_i^{(t-1)}}^2 \\mathcal{L}(y_i, \\hat{y}_i^{(t-1)}) $ — градиент и гессиан оптимизируемой функции потерь.\n",
    "\n",
    "Приводя теперь подобные слагаемые и отбрасывая слагаемое $ \\mathcal{L}(y_i, \\hat{y}_i^{(t-1)}) $, не зависящее от $ b_t(x_i)$ (а следовательно, не влияющее на точку минимума функционала), получаем формулу:\n",
    "$$ Obj^{(t)} = \\Big[\\sum_{i=1}^N\\mathcal{L}(y_i, \\hat{y}_i^{\\left(t-1\\right)})\\Big] + \\sum_{i=1}^N\\Big[g_{i}b_{t}(x_i) + \\frac{1}{2}h_{i}b_{t}^2(x_i)\\Big] + \\Big[\\gamma T + \\frac{1}{2}\\lambda\\sum_{j=1}^{T}w_j^2 + \\alpha\\sum_{j=1}^{T}|w_j|\\Big]$$\n",
    "\n",
    "Сделаем хитрый трюк: рассмотрим все объекты, через листья, в которые они попали ($I_j$ - множество объектов, попвших в лист $j$)\n",
    "$$\\sum_{i=1}^{N}g_ib_t(x_i) = \\sum_{j=1}^{T}w_j\\sum_{i\\in I_j}g_i = \\sum_{j=1}^{T}w_jG_j$$\n",
    "$$\\sum_{i=1}^{N}h_ib_t^2(x_i) = \\sum_{j=1}^{T}w^2_j\\sum_{i\\in I_j}h_i = \\sum_{j=1}^{T}w_jH_j$$\n",
    "\n",
    "\n",
    "Тогда получим\n",
    "\n",
    "$$ Obj^{(t)} = \\Big[\\sum_{i=1}^N\\mathcal{L}(y_i, \\hat{y}_i^{\\left(t-1\\right)})\\Big] + \\sum_{j=1}^{T}\\left[G_jw_j + \\frac{1}{2}(H_j + \\lambda)w_j^2 + \\alpha|w_j|\\right] + \\gamma T, $$\n",
    "\n",
    "Заметим, что первое слагаемое не зависит от текущего оптимизируемого дерева $b_t$, значит его можно отбросить и минимизировать оставшийся функционал\n",
    "\n",
    "$$ \\tilde{Obj}^{(t)} = \\sum_{j=1}^{T}\\left[G_jw_j + \\frac{1}{2}(H_j + \\lambda)w_j^2 + \\alpha|w_j|\\right] + \\gamma T \\rightarrow \\min$$\n",
    "\n",
    "\n",
    "Теперь, имея заданную структуру дерева, можно аналитически вычислить оптимальные значения для весов.\n",
    "\n",
    "В общем случае получаем:\n",
    "$$ w_j = \\begin{cases}\n",
    "-\\frac{G_j + \\alpha}{H_j + \\lambda}, если \\space G_j < -\\alpha, \\\\\n",
    "-\\frac{G_j - \\alpha}{H_j + \\lambda}, если \\space G_j > \\alpha, \\\\\n",
    "0, \\space иначе.\n",
    "\\end{cases}\n",
    "$$\n",
    "\n",
    "При $\\alpha = 0$:\n",
    "$$ w_j^* = -\\frac{G_j}{H_j + \\lambda}.$$\n",
    "\n",
    "Значение функционала при $\\alpha = 0$ будет равно:\n",
    "\n",
    "$$ Obj = -\\frac{1}{2}\\sum_{j=1}^T \\frac{G_j^2}{H_j + \\lambda} + \\gamma T .$$\n",
    "\n",
    "Осталось только построить дерево оптимальной структуры. Это можно делать известными методами построения решающих деревьев, проводя разбиения таким образом, чтобы максимизировать gain, определенный как уменьшение $Obj$ в момент этого разбиения. Для уже построенного дерева по формулам $ w_j^* $ вычисляются оптимальные значения в листьях."
   ]
  },
  {
   "cell_type": "markdown",
   "metadata": {},
   "source": [
    "# Пример использования Xgboost \n",
    "**Классификации на данных Iris.**"
   ]
  },
  {
   "cell_type": "markdown",
   "metadata": {},
   "source": [
    "**Пример восстановления регрессии с Xgboost на данных boston.**"
   ]
  },
  {
   "cell_type": "code",
   "execution_count": 2,
   "metadata": {},
   "outputs": [
    {
     "name": "stdout",
     "output_type": "stream",
     "text": [
      "9.047410732647124\n",
      "8.691280669876079\n",
      "15.025941773762074\n",
      "7.385308075054494\n",
      "7.329729069724167\n"
     ]
    }
   ],
   "source": [
    "boston = load_boston()\n",
    "y = boston['target']\n",
    "X = boston['data']\n",
    "kf = KFold(n_splits=5, shuffle=True, random_state=17)\n",
    "for train_index, test_index in kf.split(y):\n",
    "    xgb_model = xgb.XGBRegressor().fit(X[train_index],y[train_index])\n",
    "    predictions = xgb_model.predict(X[test_index])\n",
    "    actuals = y[test_index]\n",
    "    print(MSE(actuals, predictions))"
   ]
  },
  {
   "cell_type": "markdown",
   "metadata": {},
   "source": [
    "**Простой пример подбора параметров с GridSearchCV.**"
   ]
  },
  {
   "cell_type": "code",
   "execution_count": 3,
   "metadata": {},
   "outputs": [
    {
     "name": "stdout",
     "output_type": "stream",
     "text": [
      "Fitting 5 folds for each of 3 candidates, totalling 15 fits\n"
     ]
    },
    {
     "name": "stderr",
     "output_type": "stream",
     "text": [
      "[Parallel(n_jobs=1)]: Using backend SequentialBackend with 1 concurrent workers.\n"
     ]
    },
    {
     "name": "stdout",
     "output_type": "stream",
     "text": [
      "0.6839859042772509\n",
      "{'max_depth': 2}\n"
     ]
    },
    {
     "name": "stderr",
     "output_type": "stream",
     "text": [
      "[Parallel(n_jobs=1)]: Done  15 out of  15 | elapsed:    0.4s finished\n"
     ]
    }
   ],
   "source": [
    "X = boston['data']\n",
    "y = boston['target']\n",
    "\n",
    "xgb_model = xgb.XGBRegressor()\n",
    "xgb_grid = GridSearchCV(xgb_model,{'max_depth': [2,4,6]}, verbose=1)\n",
    "xgb_grid.fit(X,y)\n",
    "print(xgb_grid.best_score_)\n",
    "print(xgb_grid.best_params_)"
   ]
  },
  {
   "cell_type": "markdown",
   "metadata": {},
   "source": [
    "## Early stopping\n",
    "**Ранняя остановка используется для того, чтобы прекратить обучение модели (градиентный спуск), если ошибка за несколько итераций не уменьшилась.**"
   ]
  },
  {
   "cell_type": "code",
   "execution_count": 4,
   "metadata": {
    "scrolled": true
   },
   "outputs": [
    {
     "name": "stdout",
     "output_type": "stream",
     "text": [
      "[0]\tvalidation_0-merror:0.14000\n",
      "Will train until validation_0-merror hasn't improved in 10 rounds.\n",
      "[1]\tvalidation_0-merror:0.10667\n",
      "[2]\tvalidation_0-merror:0.08222\n",
      "[3]\tvalidation_0-merror:0.08000\n",
      "[4]\tvalidation_0-merror:0.06667\n",
      "[5]\tvalidation_0-merror:0.06444\n",
      "[6]\tvalidation_0-merror:0.07111\n",
      "[7]\tvalidation_0-merror:0.07111\n",
      "[8]\tvalidation_0-merror:0.06889\n",
      "[9]\tvalidation_0-merror:0.06667\n",
      "[10]\tvalidation_0-merror:0.06444\n",
      "[11]\tvalidation_0-merror:0.06667\n",
      "[12]\tvalidation_0-merror:0.06889\n",
      "[13]\tvalidation_0-merror:0.06000\n",
      "[14]\tvalidation_0-merror:0.05778\n",
      "[15]\tvalidation_0-merror:0.06222\n",
      "[16]\tvalidation_0-merror:0.06000\n",
      "[17]\tvalidation_0-merror:0.05778\n",
      "[18]\tvalidation_0-merror:0.05556\n",
      "[19]\tvalidation_0-merror:0.05333\n",
      "[20]\tvalidation_0-merror:0.05556\n",
      "[21]\tvalidation_0-merror:0.05556\n",
      "[22]\tvalidation_0-merror:0.04889\n",
      "[23]\tvalidation_0-merror:0.04889\n",
      "[24]\tvalidation_0-merror:0.05111\n",
      "[25]\tvalidation_0-merror:0.05333\n",
      "[26]\tvalidation_0-merror:0.05111\n",
      "[27]\tvalidation_0-merror:0.04889\n",
      "[28]\tvalidation_0-merror:0.04889\n",
      "[29]\tvalidation_0-merror:0.04667\n",
      "[30]\tvalidation_0-merror:0.04667\n",
      "[31]\tvalidation_0-merror:0.04444\n",
      "[32]\tvalidation_0-merror:0.04667\n",
      "[33]\tvalidation_0-merror:0.04444\n",
      "[34]\tvalidation_0-merror:0.04444\n",
      "[35]\tvalidation_0-merror:0.04222\n",
      "[36]\tvalidation_0-merror:0.04000\n",
      "[37]\tvalidation_0-merror:0.04000\n",
      "[38]\tvalidation_0-merror:0.04000\n",
      "[39]\tvalidation_0-merror:0.03778\n",
      "[40]\tvalidation_0-merror:0.04000\n",
      "[41]\tvalidation_0-merror:0.04000\n",
      "[42]\tvalidation_0-merror:0.03778\n",
      "[43]\tvalidation_0-merror:0.03778\n",
      "[44]\tvalidation_0-merror:0.03778\n",
      "[45]\tvalidation_0-merror:0.03778\n",
      "[46]\tvalidation_0-merror:0.03778\n",
      "[47]\tvalidation_0-merror:0.03778\n",
      "[48]\tvalidation_0-merror:0.03778\n",
      "[49]\tvalidation_0-merror:0.03778\n",
      "Stopping. Best iteration:\n",
      "[39]\tvalidation_0-merror:0.03778\n",
      "\n"
     ]
    },
    {
     "data": {
      "text/plain": [
       "XGBClassifier(base_score=0.5, booster=None, colsample_bylevel=1,\n",
       "              colsample_bynode=1, colsample_bytree=1, gamma=0, gpu_id=-1,\n",
       "              importance_type='gain', interaction_constraints=None,\n",
       "              learning_rate=0.300000012, max_delta_step=0, max_depth=6,\n",
       "              min_child_weight=1, missing=nan, monotone_constraints=None,\n",
       "              n_estimators=100, n_jobs=0, num_parallel_tree=1,\n",
       "              objective='multi:softprob', random_state=0, reg_alpha=0,\n",
       "              reg_lambda=1, scale_pos_weight=None, subsample=1,\n",
       "              tree_method=None, validate_parameters=False, verbosity=None)"
      ]
     },
     "execution_count": 4,
     "metadata": {},
     "output_type": "execute_result"
    }
   ],
   "source": [
    "from sklearn.datasets import load_digits\n",
    "digits = load_digits()\n",
    "\n",
    "X = digits['data']\n",
    "y = digits['target']\n",
    "X_train, X_test, y_train, y_test = train_test_split(X, y, random_state=17)\n",
    "clf = xgb.XGBClassifier()\n",
    "clf.fit(X_train, y_train, \n",
    "        early_stopping_rounds=10, #Ранняя остановка \n",
    "        eval_metric=\"merror\",\n",
    "        eval_set=[(X_test, y_test)])"
   ]
  },
  {
   "cell_type": "code",
   "execution_count": 5,
   "metadata": {},
   "outputs": [
    {
     "data": {
      "image/png": "[encoded data removed]",
      "text/plain": [
       "<Figure size 504x360 with 1 Axes>"
      ]
     },
     "metadata": {},
     "output_type": "display_data"
    }
   ],
   "source": [
    "errors_by_iter = clf.evals_result()['validation_0']['merror']\n",
    "plt.plot(range(1, len(errors_by_iter) + 1), errors_by_iter, label='Xgb error')\n",
    "plt.xlabel('iter')\n",
    "plt.ylabel('error')\n",
    "plt.ylim(0, 0.2)\n",
    "plt.legend()\n",
    "plt.grid()"
   ]
  },
  {
   "cell_type": "markdown",
   "metadata": {},
   "source": [
    "# [Параметры XGBoost](https://xgboost.readthedocs.io/en/latest/parameter.html)\n",
    "\n",
    "Более развернутую информацию можно найти в файле parametrs.txt и на [сайте](https://www.analyticsvidhya.com/blog/2016/03/complete-guide-parameter-tuning-xgboost-with-codes-python/)\n",
    "\n",
    "Выделяют три группы параметров:\n",
    "- Общие параметры, отвечающие за базовый алгоритм для бустинга и распараллеливание.\n",
    "- Параметры выбранного базового алгоритма.\n",
    "- Параметры обучения, отвечающие за функцию потерь и метрику качества на валидации.\n",
    "\n",
    "**1. Общие параметры:**\n",
    "- booster [default=gbtree] - тип базового алгоритма для бустинга: **дерево решений** gbtree или **линейная модель** gblinear. \n",
    "- silent [default=0] - выдавать (silent=0) или нет (silent=1) сообщения по ходу работы алгоритма.\n",
    "- nthread [default to maximum number of threads available if not set] - число нитей доступных для параллельной работы xgboost.\n",
    "\n",
    "**2. Параметры базового алгоритма:**\n",
    "\n",
    "**2.1. Дерево решений:**\n",
    "Параметры как в стандартном дереве решений: `eta`, `gamma`, `max_depth`, `min_child_weight`, `max_delta_step`, `subsample` и.т.д.\n",
    "\n",
    "**2.2. Линейная модель:**\n",
    "- lambda [default=0] - коэффициент перед $L_2$-регуляризатором вектора весов в функции потерь.\n",
    "- alpha [default=0] - коэффициент перед $L_1$-регуляризатором вектора весов в функции потерь.\n",
    "- lambda_bias [default=0] - коэффициент перед $L_2$-регуляризатором смещения (свободного члена) в функции потерь.\n",
    "\n",
    "**3. Параметры задачи обучения:**\n",
    "- **objective** [default=reg:linear] - используемая при обучении функция потерь:\n",
    "    * `reg:linear`, `reg:logistic`, `binary:logistic`, `binary:logitraw`, `count:poisson`, `multi:softmax`, `multi:softprob`, `rank:pairwise`\n",
    "- **base_score** [default=0.5] - инициализация значения модели для всех примеров, глобальное смещение.\n",
    "- **eval_metric** [default according to objective] - метрика качества на валидационной выборке (по умолчанию соответствует функции потерь: rmse - для регрессии, error - для классификации, mean average precision - для ранжирования). Выбрать можно одну из следующих метрик:\n",
    "    - `rmse`, `logloss`, `error`, `merror`, `mlogloss`, `auc`, `ndcg`, `map` и.т.д.\n",
    "- **seed** [default=0] - для воспроизводимости \"случайности\".\n"
   ]
  },
  {
   "cell_type": "markdown",
   "metadata": {},
   "source": [
    "## Сравнение алгоритмов по времени работы\n",
    "\n",
    "Посмотрим на время обучения классификаторов XGBooster и GradientBoostingClassifier. Для этого будем генерировать выборку из 1000 объектов и 50 признаков с помощью sklearn.datasets.make_classification и замерять время обучения."
   ]
  },
  {
   "cell_type": "code",
   "execution_count": null,
   "metadata": {},
   "outputs": [],
   "source": [
    "from tqdm.notebook import tqdm\n",
    "import time\n",
    "\n",
    "xgb_params1 = {'booster': 'gbtree', \n",
    "               'n_estimators': 100, \n",
    "               'max_depth': 3, \n",
    "               'eta': 0.1, \n",
    "               'silent': 1, \n",
    "               'objective': 'binary:logistic', \n",
    "               'nthread': 1}\n",
    "\n",
    "xgb_params2 = {'booster': 'gbtree', \n",
    "               'n_estimators': 100, \n",
    "               'max_depth': 3, \n",
    "               'eta': 0.1, \n",
    "               'silent': 1, \n",
    "               'objective': 'binary:logistic', \n",
    "               'nthread': 4}\n",
    "\n",
    "sklearn_params = {'n_estimators': 100, 'max_depth': 3}\n",
    "\n",
    "xgb_time1 = list()\n",
    "xgb_time2 = list()\n",
    "sklearn_time = list()\n",
    "\n",
    "n_runs = 50\n",
    "\n",
    "for i in tqdm(range(n_runs)):\n",
    "    # Generating dataset\n",
    "    X, y = make_classification(n_samples=1000, n_features=50, n_informative=20)\n",
    "    # Training XGBooster (nthread=1)\n",
    "    t = time.time()\n",
    "    bst = xgb.XGBClassifier(**xgb_params1).fit(X, y)\n",
    "    elapsed = time.time() - t\n",
    "    xgb_time1.append(elapsed)\n",
    "    # Training XGBooster (nthread=4)\n",
    "    t = time.time()\n",
    "    bst = xgb.XGBClassifier(**xgb_params2).fit(X, y)\n",
    "    elapsed = time.time() - t\n",
    "    xgb_time2.append(elapsed)\n",
    "    # Training GradientBoostingClassifier\n",
    "    t = time.time()\n",
    "    clf = GradientBoostingClassifier(**sklearn_params).fit(X, y)\n",
    "    elapsed = time.time() - t\n",
    "    sklearn_time.append(elapsed)"
   ]
  },
  {
   "cell_type": "code",
   "execution_count": 11,
   "metadata": {},
   "outputs": [
    {
     "data": {
      "image/png": "[encoded data removed]",
      "text/plain": [
       "<Figure size 864x576 with 1 Axes>"
      ]
     },
     "metadata": {
      "needs_background": "light"
     },
     "output_type": "display_data"
    }
   ],
   "source": [
    "%matplotlib  inline\n",
    "import matplotlib.pyplot as plt\n",
    "\n",
    "xgb_mean1 = sum(xgb_time1) / n_runs\n",
    "xgb_mean2 = sum(xgb_time2) / n_runs\n",
    "sklearn_mean = sum(sklearn_time) / n_runs\n",
    "\n",
    "plt.figure(figsize=(12, 8))\n",
    "plt.plot(xgb_time1, label='XGBooster (nthread = 1)', lw=2)\n",
    "plt.plot(xgb_time2, label='XGBooster (nthread = 4)', lw=2)\n",
    "plt.plot(sklearn_time, label='GradientBoostingClassifier', lw=2)\n",
    "plt.legend(loc='best')\n",
    "plt.text(1, (xgb_mean1 + sklearn_mean) / 2, \n",
    "         'XGBoost (nthread = 1) mean time = %.2f' % xgb_mean1 +\n",
    "         '\\n\\nXGBoost (nthread = 4) mean time = %.2f' % xgb_mean2 +\n",
    "         '\\n\\nScikit-learn mean time = %.2f' % sklearn_mean,\n",
    "            fontsize = 15)\n",
    "plt.xlabel('Iteration number')\n",
    "plt.ylabel('Running time, sec')\n",
    "plt.title('XGBoost vs. GradientBoostingClassifier comparison')\n",
    "plt.show()"
   ]
  },
  {
   "cell_type": "markdown",
   "metadata": {},
   "source": [
    "## Выводы\n",
    "\n",
    "Основные преимущества XGBoost по сравнению с sklearn.ensembles.GradientBoostingClassifier:\n",
    "- Помимо деревьев возможно использование линейных моделей в качестве базовых классификаторов.\n",
    "- Скорость работы.\n",
    "- Возможность распараллеливания.\n",
    "- Значительно больший выбор стандартных функций потерь, а также возможность задавать свою функцию потерь.\n",
    "- Наличие регуляризаторов в итоговой функции потерь и возможность задавать их коэффициенты, что даёт еще один метод борьбы с переобучением, помимо использования случайности (subsample, colsample_bytree) и основных параметров дерева решений.\n",
    "- Встроенная обработка missing values."
   ]
  },
  {
   "cell_type": "markdown",
   "metadata": {},
   "source": [
    "# Feature Importance"
   ]
  },
  {
   "cell_type": "markdown",
   "metadata": {},
   "source": [
    "### Важность признаков"
   ]
  },
  {
   "cell_type": "markdown",
   "metadata": {},
   "source": [
    "**F score при оценке важности признаков в Xgboost (не путать с F1 score как метрики качества классификации) вычисляется на основе того, как часто разбиение делалось по данному признаку.**"
   ]
  },
  {
   "cell_type": "code",
   "execution_count": 21,
   "metadata": {},
   "outputs": [
    {
     "data": {
      "image/png": "[encoded data removed]",
      "text/plain": [
       "<Figure size 432x288 with 1 Axes>"
      ]
     },
     "metadata": {
      "needs_background": "light"
     },
     "output_type": "display_data"
    }
   ],
   "source": [
    "boston = load_boston()\n",
    "y = boston['target']\n",
    "X = boston['data']\n",
    "X_train, X_test, y_train, y_test = train_test_split(X, y)\n",
    "xgb_model = xgb.XGBRegressor().fit(X_train,y_train)\n",
    "xgb.plot_importance(xgb_model);"
   ]
  },
  {
   "cell_type": "markdown",
   "metadata": {},
   "source": [
    "Или так"
   ]
  },
  {
   "cell_type": "code",
   "execution_count": 23,
   "metadata": {},
   "outputs": [
    {
     "data": {
      "text/plain": [
       "array([0.02892063, 0.00223669, 0.01215404, 0.0018891 , 0.03679178,\n",
       "       0.2790266 , 0.00800839, 0.04944727, 0.01147965, 0.04604128,\n",
       "       0.0352719 , 0.00868248, 0.48005015], dtype=float32)"
      ]
     },
     "execution_count": 23,
     "metadata": {},
     "output_type": "execute_result"
    }
   ],
   "source": [
    "xgb_model.feature_importances_"
   ]
  },
  {
   "cell_type": "markdown",
   "metadata": {},
   "source": [
    "# Python Interface"
   ]
  },
  {
   "cell_type": "markdown",
   "metadata": {},
   "source": [
    "XGBoost разрабатывался независимо от sklearn библиотеки, поэтому изначально в нем присутствовал более низкоуровневый интерфейс. Сейчас принято использовать интерфейс sklearn, так как он интегрируется в другие полезные функции, например GridSearch. Однако полезно знать и использовать начальный интерфейс.\n",
    "\n"
   ]
  },
  {
   "cell_type": "code",
   "execution_count": 39,
   "metadata": {},
   "outputs": [],
   "source": [
    "df = pd.read_csv('data/telecom_churn.csv')"
   ]
  },
  {
   "cell_type": "code",
   "execution_count": 40,
   "metadata": {},
   "outputs": [],
   "source": [
    "state_enc = LabelEncoder()\n",
    "df['State'] = state_enc.fit_transform(df['State'])\n",
    "df['International plan'] = (df['International plan'] == 'Yes').astype('int')\n",
    "df['Voice mail plan'] = (df['Voice mail plan'] == 'Yes').astype('int')\n",
    "df['Churn'] = (df['Churn']).astype('int')"
   ]
  },
  {
   "cell_type": "markdown",
   "metadata": {},
   "source": [
    "Первая особенность - тренировачные и обучающие выборки оборачиваются в специальный класс [DMatrix](https://xgboost.readthedocs.io/en/latest/python/python_api.html?highlight=dmatrix#xgboost.DMatrix). О специфике формати и то, как в нем представляются данные, можно прочитать [здесь](https://xgboost.readthedocs.io/en/latest/tutorials/input_format.html)"
   ]
  },
  {
   "cell_type": "code",
   "execution_count": 41,
   "metadata": {},
   "outputs": [],
   "source": [
    "X_train, X_test, y_train, y_test = train_test_split(df.drop('Churn', axis=1), df['Churn'],\n",
    "                                                    test_size=0.3, stratify=df['Churn'], random_state=17)\n",
    "dtrain = xgb.DMatrix(X_train, y_train)\n",
    "dtest = xgb.DMatrix(X_test, y_test)"
   ]
  },
  {
   "cell_type": "markdown",
   "metadata": {},
   "source": [
    "**Посмотрим на статистику полученных объектов:**"
   ]
  },
  {
   "cell_type": "code",
   "execution_count": 42,
   "metadata": {},
   "outputs": [
    {
     "name": "stdout",
     "output_type": "stream",
     "text": [
      "Train dataset contains 2333 rows and 19 columns\n",
      "Test dataset contains 1000 rows and 19 columns\n"
     ]
    }
   ],
   "source": [
    "print(\"Train dataset contains {0} rows and {1} columns\".format(dtrain.num_row(), dtrain.num_col()))\n",
    "print(\"Test dataset contains {0} rows and {1} columns\".format(dtest.num_row(), dtest.num_col()))"
   ]
  },
  {
   "cell_type": "code",
   "execution_count": 43,
   "metadata": {},
   "outputs": [
    {
     "name": "stdout",
     "output_type": "stream",
     "text": [
      "Train mean target: \n",
      "0.14487784\n",
      "\n",
      "Test mean target: \n",
      "0.145\n"
     ]
    }
   ],
   "source": [
    "print(\"Train mean target: \")\n",
    "print(np.mean(dtrain.get_label()))\n",
    "\n",
    "print(\"\\nTest mean target: \")\n",
    "print(np.mean(dtest.get_label()))"
   ]
  },
  {
   "cell_type": "markdown",
   "metadata": {},
   "source": [
    "### Инициализация параметров\n",
    "\n",
    "Второе существенное отличие, у нас нет различных алгоритмов для разних типов задач (`XGBClassifier`, `XGBRegressor` и.т.д.), у нас есть один метод `train` и в нем мы уже корректно определяем задачу `objective` и остальные параметры\n",
    "\n",
    "- бинарная классификация (`'objective':'binary:logistic'`)\n",
    "- ограничим глубину деревьев (`'max_depth':3`)\n",
    "- не хотим лишнего вывода (`'silent':1`)\n",
    "- проведем 50 итераций бустинга\n",
    "- шаг градиентного спуска довольно большой (`'eta':1`) - алгоритм будет обучаться быстро и \"агрессивно\" (лучше результаты будут, если уменьшить eta и увеличить число итераций)\n"
   ]
  },
  {
   "cell_type": "code",
   "execution_count": 44,
   "metadata": {},
   "outputs": [],
   "source": [
    "params = {\n",
    "    'objective':'binary:logistic',\n",
    "    'max_depth': 3,\n",
    "    'silent': 1,\n",
    "    'eta': 1\n",
    "}\n",
    "\n",
    "num_rounds = 50"
   ]
  },
  {
   "cell_type": "markdown",
   "metadata": {},
   "source": [
    "### Обучение классификатора\n",
    "Тут мы просто передаем слоавть параметров, данные и число итераций."
   ]
  },
  {
   "cell_type": "code",
   "execution_count": 45,
   "metadata": {},
   "outputs": [],
   "source": [
    "xgb_model = xgb.train(params, dtrain, num_rounds)"
   ]
  },
  {
   "cell_type": "markdown",
   "metadata": {},
   "source": [
    "**С помощью `watchlist` отслеживать качество алгоритма на тестовой выборке для каждой итерации.**"
   ]
  },
  {
   "cell_type": "code",
   "execution_count": 46,
   "metadata": {
    "scrolled": true
   },
   "outputs": [
    {
     "name": "stdout",
     "output_type": "stream",
     "text": [
      "[0]\ttest-error:0.11600\ttrain-error:0.09087\n",
      "[1]\ttest-error:0.10200\ttrain-error:0.06858\n",
      "[2]\ttest-error:0.07100\ttrain-error:0.04029\n",
      "[3]\ttest-error:0.06400\ttrain-error:0.03472\n",
      "[4]\ttest-error:0.07100\ttrain-error:0.03601\n",
      "[5]\ttest-error:0.07000\ttrain-error:0.03386\n",
      "[6]\ttest-error:0.06900\ttrain-error:0.03215\n",
      "[7]\ttest-error:0.07300\ttrain-error:0.03043\n",
      "[8]\ttest-error:0.07000\ttrain-error:0.02872\n",
      "[9]\ttest-error:0.07400\ttrain-error:0.02872\n",
      "[10]\ttest-error:0.07000\ttrain-error:0.02829\n",
      "[11]\ttest-error:0.07000\ttrain-error:0.02872\n",
      "[12]\ttest-error:0.06300\ttrain-error:0.02658\n",
      "[13]\ttest-error:0.06700\ttrain-error:0.02443\n",
      "[14]\ttest-error:0.06900\ttrain-error:0.02186\n",
      "[15]\ttest-error:0.06900\ttrain-error:0.02143\n",
      "[16]\ttest-error:0.06800\ttrain-error:0.02186\n",
      "[17]\ttest-error:0.06300\ttrain-error:0.01929\n",
      "[18]\ttest-error:0.07000\ttrain-error:0.02100\n",
      "[19]\ttest-error:0.06700\ttrain-error:0.01886\n",
      "[20]\ttest-error:0.06900\ttrain-error:0.01929\n",
      "[21]\ttest-error:0.06800\ttrain-error:0.01800\n",
      "[22]\ttest-error:0.06500\ttrain-error:0.01672\n",
      "[23]\ttest-error:0.06300\ttrain-error:0.01586\n",
      "[24]\ttest-error:0.06400\ttrain-error:0.01586\n",
      "[25]\ttest-error:0.06200\ttrain-error:0.01457\n",
      "[26]\ttest-error:0.06500\ttrain-error:0.01414\n",
      "[27]\ttest-error:0.06300\ttrain-error:0.01200\n",
      "[28]\ttest-error:0.06300\ttrain-error:0.01243\n",
      "[29]\ttest-error:0.06300\ttrain-error:0.01200\n",
      "[30]\ttest-error:0.06200\ttrain-error:0.01157\n",
      "[31]\ttest-error:0.06300\ttrain-error:0.01114\n",
      "[32]\ttest-error:0.06400\ttrain-error:0.01072\n",
      "[33]\ttest-error:0.06100\ttrain-error:0.01072\n",
      "[34]\ttest-error:0.06400\ttrain-error:0.01072\n",
      "[35]\ttest-error:0.05900\ttrain-error:0.00943\n",
      "[36]\ttest-error:0.06700\ttrain-error:0.00814\n",
      "[37]\ttest-error:0.06600\ttrain-error:0.00814\n",
      "[38]\ttest-error:0.06600\ttrain-error:0.00771\n",
      "[39]\ttest-error:0.06600\ttrain-error:0.00514\n",
      "[40]\ttest-error:0.06500\ttrain-error:0.00471\n",
      "[41]\ttest-error:0.06600\ttrain-error:0.00471\n",
      "[42]\ttest-error:0.06500\ttrain-error:0.00300\n",
      "[43]\ttest-error:0.06900\ttrain-error:0.00214\n",
      "[44]\ttest-error:0.06500\ttrain-error:0.00300\n",
      "[45]\ttest-error:0.06400\ttrain-error:0.00257\n",
      "[46]\ttest-error:0.06600\ttrain-error:0.00343\n",
      "[47]\ttest-error:0.06300\ttrain-error:0.00129\n",
      "[48]\ttest-error:0.06200\ttrain-error:0.00129\n",
      "[49]\ttest-error:0.06500\ttrain-error:0.00214\n"
     ]
    }
   ],
   "source": [
    "watchlist  = [(dtest,'test'), (dtrain,'train')] # native interface only\n",
    "xgb_model = xgb.train(params, dtrain, num_rounds, watchlist)"
   ]
  },
  {
   "cell_type": "markdown",
   "metadata": {},
   "source": [
    "### Прогнозы для тестовой выборки"
   ]
  },
  {
   "cell_type": "code",
   "execution_count": 47,
   "metadata": {},
   "outputs": [],
   "source": [
    "preds_prob = xgb_model.predict(dtest)"
   ]
  },
  {
   "cell_type": "markdown",
   "metadata": {},
   "source": [
    "**Посчитаем долю правильных ответов алгоритма на тестовой выборке.**"
   ]
  },
  {
   "cell_type": "code",
   "execution_count": 49,
   "metadata": {},
   "outputs": [
    {
     "name": "stdout",
     "output_type": "stream",
     "text": [
      "Accuracy and F1 on the test set are: 0.935 and 0.749\n"
     ]
    }
   ],
   "source": [
    "from sklearn.metrics import f1_score\n",
    "\n",
    "predicted_labels = preds_prob > 0.5\n",
    "print(\"Accuracy and F1 on the test set are: {} and {}\".format(\n",
    "    round(accuracy_score(y_test, predicted_labels), 3),\n",
    "    round(f1_score(y_test, predicted_labels), 3)))"
   ]
  },
  {
   "cell_type": "markdown",
   "metadata": {},
   "source": [
    "## Полезные ссылки\n",
    "- <a href=\"https://en.wikipedia.org/wiki/Boosting_(machine_learning)\">Boosting Wikipedia</a>\n",
    "- [Gradient boosting. Wikipedia](https://en.wikipedia.org/wiki/Gradient_boosting)\n",
    "- [Лекция Слайды Воронцова 2018г](http://www.machinelearning.ru/wiki/images/c/cd/Voron-ML-Compositions-slides.pdf) К.В. Воронцова по композиционным методам классификации\n",
    "- <a href=\"https://github.com/dmlc/xgboost\">Github Xgboost</a>\n",
    "- <a href=\"https://github.com/ChenglongChen/Kaggle_CrowdFlower\">Обзор</a> решения победителя соревнования Kaggle \"CrowdFlower\" по предсказанию релевантности выдачи поисковика товаров. Решение на основе Xgboost\n",
    "\n",
    "- [XGBoost doc](https://xgboost.readthedocs.org/en/latest/parameter.html)\n",
    "- [GradientBoostingClassifier. Sklearn doc](http://scikit-learn.org/stable/modules/generated/sklearn.ensemble.GradientBoostingClassifier.html)\n",
    "- [Сравнение](https://github.com/szilard/benchm-ml) различных библиотек для машинного обучения, в том числе sklearn и xgboost "
   ]
  }
 ],
 "metadata": {
  "kernelspec": {
   "display_name": "mlcourse",
   "language": "python",
   "name": "mlcourse"
  },
  "language_info": {
   "codemirror_mode": {
    "name": "ipython",
    "version": 3
   },
   "file_extension": ".py",
   "mimetype": "text/x-python",
   "name": "python",
   "nbconvert_exporter": "python",
   "pygments_lexer": "ipython3",
   "version": "3.7.5"
  }
 },
 "nbformat": 4,
 "nbformat_minor": 4
}
